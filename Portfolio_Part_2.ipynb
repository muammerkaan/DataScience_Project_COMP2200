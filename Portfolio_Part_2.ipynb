{
 "cells": [
  {
   "cell_type": "markdown",
   "id": "74bd35d7",
   "metadata": {},
   "source": [
    "## Portfolio Part 2"
   ]
  },
  {
   "cell_type": "markdown",
   "id": "b154a46c",
   "metadata": {},
   "source": [
    "The goal of the second Portfolio task is to train linear regression models to predict users' ratings towards movies. This involves a standard Data Science workflow: exploring data, building models, making predictions, and evaluating results. In this task, we will explore the impacts of feature selections and different sizes of training/testing data on the model performance. We will continue using the movielens dataset provided in Portfolio task 1. "
   ]
  },
  {
   "cell_type": "markdown",
   "id": "2566945d",
   "metadata": {},
   "source": [
    "### Import Cleaned MovieLens Dataset\n",
    "Save the cleaned data (i.e., after removing missing values and outliers) in the Portfolio task 1 as a csv file named 'movielens_data_clean.csv'. You may need to use the Pandas method, i.e., `to_csv`, for doing this. After that, please import the csv file (i.e., 'movielens_data_clean') and print out its total length."
   ]
  },
  {
   "cell_type": "code",
   "execution_count": 209,
   "id": "77e7deaa",
   "metadata": {},
   "outputs": [
    {
     "data": {
      "text/plain": [
       "96854"
      ]
     },
     "execution_count": 209,
     "metadata": {},
     "output_type": "execute_result"
    }
   ],
   "source": [
    "import numpy as np\n",
    "import pandas as pd\n",
    "import matplotlib.pyplot as plt\n",
    "%matplotlib inline\n",
    "import seaborn as sns\n",
    "from sklearn.model_selection import train_test_split\n",
    "from sklearn import linear_model\n",
    "from sklearn.linear_model import LinearRegression\n",
    "from sklearn.metrics import r2_score\n",
    "from sklearn.metrics import mean_squared_error\n",
    "from sklearn.metrics import mean_absolute_error\n",
    "\n",
    "df = pd.read_csv('files/movielens_data_clean.csv')\n",
    "len(df)"
   ]
  },
  {
   "cell_type": "markdown",
   "id": "2a656b42",
   "metadata": {},
   "source": [
    "### Explore the Dataset\n",
    "\n",
    "* Use the methods, i.e., `head()` and `info()`, to have a rough picture about the data, e.g., how many columns, and the data types of each column. \n",
    "* As our goal is to predict ratings given other columns, please get the correlations between age/gender/genre/occupation and rating by using the `corr()` method.\n",
    "* To get the correlations between different features, you may need to first convert the categorical features (i.e., gender, genre and occupation) into numerial values. For doing this, you may need to import `OrdinalEncoder` from `sklearn.preprocessing` (refer to the useful exmaples [here](https://pbpython.com/categorical-encoding.html))\n",
    "* Please provide ___necessary explanations/analysis___ on the correlations, and figure out which are the ___most___ and ___least___ corrleated features regarding rating. Try to ___discuss___ how the correlation will affect the final prediction results, if we use these features to train a regression model for rating prediction. In what follows, we will conduct experiments to verify your hypothesis."
   ]
  },
  {
   "cell_type": "code",
   "execution_count": 210,
   "id": "b722522d",
   "metadata": {},
   "outputs": [
    {
     "data": {
      "text/html": [
       "<div>\n",
       "<style scoped>\n",
       "    .dataframe tbody tr th:only-of-type {\n",
       "        vertical-align: middle;\n",
       "    }\n",
       "\n",
       "    .dataframe tbody tr th {\n",
       "        vertical-align: top;\n",
       "    }\n",
       "\n",
       "    .dataframe thead th {\n",
       "        text-align: right;\n",
       "    }\n",
       "</style>\n",
       "<table border=\"1\" class=\"dataframe\">\n",
       "  <thead>\n",
       "    <tr style=\"text-align: right;\">\n",
       "      <th></th>\n",
       "      <th>userId</th>\n",
       "      <th>age</th>\n",
       "      <th>gender</th>\n",
       "      <th>occupation</th>\n",
       "      <th>movieId</th>\n",
       "      <th>rating</th>\n",
       "      <th>genre</th>\n",
       "      <th>timestamp</th>\n",
       "    </tr>\n",
       "  </thead>\n",
       "  <tbody>\n",
       "    <tr>\n",
       "      <th>0</th>\n",
       "      <td>196</td>\n",
       "      <td>49.0</td>\n",
       "      <td>M</td>\n",
       "      <td>writer</td>\n",
       "      <td>242</td>\n",
       "      <td>3.0</td>\n",
       "      <td>Comedy</td>\n",
       "      <td>881250949</td>\n",
       "    </tr>\n",
       "    <tr>\n",
       "      <th>1</th>\n",
       "      <td>22</td>\n",
       "      <td>25.0</td>\n",
       "      <td>M</td>\n",
       "      <td>writer</td>\n",
       "      <td>377</td>\n",
       "      <td>1.0</td>\n",
       "      <td>Children</td>\n",
       "      <td>878887116</td>\n",
       "    </tr>\n",
       "    <tr>\n",
       "      <th>2</th>\n",
       "      <td>244</td>\n",
       "      <td>28.0</td>\n",
       "      <td>M</td>\n",
       "      <td>technician</td>\n",
       "      <td>51</td>\n",
       "      <td>2.0</td>\n",
       "      <td>Romance</td>\n",
       "      <td>880606923</td>\n",
       "    </tr>\n",
       "    <tr>\n",
       "      <th>3</th>\n",
       "      <td>298</td>\n",
       "      <td>44.0</td>\n",
       "      <td>M</td>\n",
       "      <td>executive</td>\n",
       "      <td>474</td>\n",
       "      <td>4.0</td>\n",
       "      <td>War</td>\n",
       "      <td>884182806</td>\n",
       "    </tr>\n",
       "    <tr>\n",
       "      <th>4</th>\n",
       "      <td>253</td>\n",
       "      <td>26.0</td>\n",
       "      <td>F</td>\n",
       "      <td>librarian</td>\n",
       "      <td>465</td>\n",
       "      <td>5.0</td>\n",
       "      <td>Adventure</td>\n",
       "      <td>891628467</td>\n",
       "    </tr>\n",
       "  </tbody>\n",
       "</table>\n",
       "</div>"
      ],
      "text/plain": [
       "   userId   age gender  occupation  movieId  rating      genre  timestamp\n",
       "0     196  49.0      M      writer      242     3.0     Comedy  881250949\n",
       "1      22  25.0      M      writer      377     1.0   Children  878887116\n",
       "2     244  28.0      M  technician       51     2.0    Romance  880606923\n",
       "3     298  44.0      M   executive      474     4.0        War  884182806\n",
       "4     253  26.0      F   librarian      465     5.0  Adventure  891628467"
      ]
     },
     "execution_count": 210,
     "metadata": {},
     "output_type": "execute_result"
    }
   ],
   "source": [
    "df.head()"
   ]
  },
  {
   "cell_type": "code",
   "execution_count": 211,
   "id": "915c7fbc",
   "metadata": {},
   "outputs": [
    {
     "name": "stdout",
     "output_type": "stream",
     "text": [
      "<class 'pandas.core.frame.DataFrame'>\n",
      "RangeIndex: 96854 entries, 0 to 96853\n",
      "Data columns (total 8 columns):\n",
      " #   Column      Non-Null Count  Dtype  \n",
      "---  ------      --------------  -----  \n",
      " 0   userId      96854 non-null  int64  \n",
      " 1   age         96854 non-null  float64\n",
      " 2   gender      96854 non-null  object \n",
      " 3   occupation  96854 non-null  object \n",
      " 4   movieId     96854 non-null  int64  \n",
      " 5   rating      96854 non-null  float64\n",
      " 6   genre       96854 non-null  object \n",
      " 7   timestamp   96854 non-null  int64  \n",
      "dtypes: float64(2), int64(3), object(3)\n",
      "memory usage: 5.9+ MB\n"
     ]
    }
   ],
   "source": [
    "# Data types for the features\n",
    "df.info()"
   ]
  },
  {
   "cell_type": "code",
   "execution_count": 212,
   "id": "fbce781b",
   "metadata": {},
   "outputs": [
    {
     "data": {
      "text/html": [
       "<div>\n",
       "<style scoped>\n",
       "    .dataframe tbody tr th:only-of-type {\n",
       "        vertical-align: middle;\n",
       "    }\n",
       "\n",
       "    .dataframe tbody tr th {\n",
       "        vertical-align: top;\n",
       "    }\n",
       "\n",
       "    .dataframe thead th {\n",
       "        text-align: right;\n",
       "    }\n",
       "</style>\n",
       "<table border=\"1\" class=\"dataframe\">\n",
       "  <thead>\n",
       "    <tr style=\"text-align: right;\">\n",
       "      <th></th>\n",
       "      <th>gender</th>\n",
       "      <th>occupation</th>\n",
       "      <th>genre</th>\n",
       "    </tr>\n",
       "  </thead>\n",
       "  <tbody>\n",
       "    <tr>\n",
       "      <th>0</th>\n",
       "      <td>M</td>\n",
       "      <td>writer</td>\n",
       "      <td>Comedy</td>\n",
       "    </tr>\n",
       "    <tr>\n",
       "      <th>1</th>\n",
       "      <td>M</td>\n",
       "      <td>writer</td>\n",
       "      <td>Children</td>\n",
       "    </tr>\n",
       "    <tr>\n",
       "      <th>2</th>\n",
       "      <td>M</td>\n",
       "      <td>technician</td>\n",
       "      <td>Romance</td>\n",
       "    </tr>\n",
       "    <tr>\n",
       "      <th>3</th>\n",
       "      <td>M</td>\n",
       "      <td>executive</td>\n",
       "      <td>War</td>\n",
       "    </tr>\n",
       "    <tr>\n",
       "      <th>4</th>\n",
       "      <td>F</td>\n",
       "      <td>librarian</td>\n",
       "      <td>Adventure</td>\n",
       "    </tr>\n",
       "  </tbody>\n",
       "</table>\n",
       "</div>"
      ],
      "text/plain": [
       "  gender  occupation      genre\n",
       "0      M      writer     Comedy\n",
       "1      M      writer   Children\n",
       "2      M  technician    Romance\n",
       "3      M   executive        War\n",
       "4      F   librarian  Adventure"
      ]
     },
     "execution_count": 212,
     "metadata": {},
     "output_type": "execute_result"
    }
   ],
   "source": [
    "# Features which are objects\n",
    "obj_df = df.select_dtypes(include=['object']).copy()\n",
    "obj_df.head()"
   ]
  },
  {
   "cell_type": "code",
   "execution_count": 213,
   "id": "7be1a866",
   "metadata": {},
   "outputs": [
    {
     "data": {
      "text/html": [
       "<div>\n",
       "<style scoped>\n",
       "    .dataframe tbody tr th:only-of-type {\n",
       "        vertical-align: middle;\n",
       "    }\n",
       "\n",
       "    .dataframe tbody tr th {\n",
       "        vertical-align: top;\n",
       "    }\n",
       "\n",
       "    .dataframe thead th {\n",
       "        text-align: right;\n",
       "    }\n",
       "</style>\n",
       "<table border=\"1\" class=\"dataframe\">\n",
       "  <thead>\n",
       "    <tr style=\"text-align: right;\">\n",
       "      <th></th>\n",
       "      <th>gender_code</th>\n",
       "      <th>occupation_code</th>\n",
       "      <th>genre_code</th>\n",
       "    </tr>\n",
       "  </thead>\n",
       "  <tbody>\n",
       "    <tr>\n",
       "      <th>0</th>\n",
       "      <td>1.0</td>\n",
       "      <td>19.0</td>\n",
       "      <td>4.0</td>\n",
       "    </tr>\n",
       "    <tr>\n",
       "      <th>1</th>\n",
       "      <td>1.0</td>\n",
       "      <td>19.0</td>\n",
       "      <td>3.0</td>\n",
       "    </tr>\n",
       "    <tr>\n",
       "      <th>2</th>\n",
       "      <td>1.0</td>\n",
       "      <td>18.0</td>\n",
       "      <td>13.0</td>\n",
       "    </tr>\n",
       "    <tr>\n",
       "      <th>3</th>\n",
       "      <td>1.0</td>\n",
       "      <td>6.0</td>\n",
       "      <td>16.0</td>\n",
       "    </tr>\n",
       "    <tr>\n",
       "      <th>4</th>\n",
       "      <td>0.0</td>\n",
       "      <td>10.0</td>\n",
       "      <td>1.0</td>\n",
       "    </tr>\n",
       "    <tr>\n",
       "      <th>...</th>\n",
       "      <td>...</td>\n",
       "      <td>...</td>\n",
       "      <td>...</td>\n",
       "    </tr>\n",
       "    <tr>\n",
       "      <th>96849</th>\n",
       "      <td>1.0</td>\n",
       "      <td>17.0</td>\n",
       "      <td>4.0</td>\n",
       "    </tr>\n",
       "    <tr>\n",
       "      <th>96850</th>\n",
       "      <td>0.0</td>\n",
       "      <td>0.0</td>\n",
       "      <td>14.0</td>\n",
       "    </tr>\n",
       "    <tr>\n",
       "      <th>96851</th>\n",
       "      <td>1.0</td>\n",
       "      <td>17.0</td>\n",
       "      <td>15.0</td>\n",
       "    </tr>\n",
       "    <tr>\n",
       "      <th>96852</th>\n",
       "      <td>1.0</td>\n",
       "      <td>3.0</td>\n",
       "      <td>4.0</td>\n",
       "    </tr>\n",
       "    <tr>\n",
       "      <th>96853</th>\n",
       "      <td>0.0</td>\n",
       "      <td>12.0</td>\n",
       "      <td>17.0</td>\n",
       "    </tr>\n",
       "  </tbody>\n",
       "</table>\n",
       "<p>96854 rows × 3 columns</p>\n",
       "</div>"
      ],
      "text/plain": [
       "       gender_code  occupation_code  genre_code\n",
       "0              1.0             19.0         4.0\n",
       "1              1.0             19.0         3.0\n",
       "2              1.0             18.0        13.0\n",
       "3              1.0              6.0        16.0\n",
       "4              0.0             10.0         1.0\n",
       "...            ...              ...         ...\n",
       "96849          1.0             17.0         4.0\n",
       "96850          0.0              0.0        14.0\n",
       "96851          1.0             17.0        15.0\n",
       "96852          1.0              3.0         4.0\n",
       "96853          0.0             12.0        17.0\n",
       "\n",
       "[96854 rows x 3 columns]"
      ]
     },
     "execution_count": 213,
     "metadata": {},
     "output_type": "execute_result"
    }
   ],
   "source": [
    "# Using Ordinal Encoder to change the feature values from object to float64\n",
    "from sklearn.preprocessing import OrdinalEncoder\n",
    "ord_enc = OrdinalEncoder()\n",
    "obj_df[\"gender_code\"] = ord_enc.fit_transform(obj_df[[\"gender\"]])\n",
    "obj_df[\"occupation_code\"] = ord_enc.fit_transform(obj_df[[\"occupation\"]])\n",
    "obj_df[\"genre_code\"] = ord_enc.fit_transform(obj_df[[\"genre\"]])\n",
    "obj_df = obj_df[['gender_code', 'occupation_code', 'genre_code']]\n",
    "obj_df"
   ]
  },
  {
   "cell_type": "code",
   "execution_count": 214,
   "id": "d8d30f75",
   "metadata": {},
   "outputs": [
    {
     "name": "stdout",
     "output_type": "stream",
     "text": [
      "<class 'pandas.core.frame.DataFrame'>\n",
      "RangeIndex: 96854 entries, 0 to 96853\n",
      "Data columns (total 3 columns):\n",
      " #   Column           Non-Null Count  Dtype  \n",
      "---  ------           --------------  -----  \n",
      " 0   gender_code      96854 non-null  float64\n",
      " 1   occupation_code  96854 non-null  float64\n",
      " 2   genre_code       96854 non-null  float64\n",
      "dtypes: float64(3)\n",
      "memory usage: 2.2 MB\n"
     ]
    }
   ],
   "source": [
    "obj_df.info()"
   ]
  },
  {
   "cell_type": "code",
   "execution_count": 215,
   "id": "0a92f7d8",
   "metadata": {},
   "outputs": [
    {
     "data": {
      "text/html": [
       "<div>\n",
       "<style scoped>\n",
       "    .dataframe tbody tr th:only-of-type {\n",
       "        vertical-align: middle;\n",
       "    }\n",
       "\n",
       "    .dataframe tbody tr th {\n",
       "        vertical-align: top;\n",
       "    }\n",
       "\n",
       "    .dataframe thead th {\n",
       "        text-align: right;\n",
       "    }\n",
       "</style>\n",
       "<table border=\"1\" class=\"dataframe\">\n",
       "  <thead>\n",
       "    <tr style=\"text-align: right;\">\n",
       "      <th></th>\n",
       "      <th>userId</th>\n",
       "      <th>age</th>\n",
       "      <th>gender</th>\n",
       "      <th>occupation</th>\n",
       "      <th>movieId</th>\n",
       "      <th>rating</th>\n",
       "      <th>genre</th>\n",
       "      <th>timestamp</th>\n",
       "      <th>gender_code</th>\n",
       "      <th>occupation_code</th>\n",
       "      <th>genre_code</th>\n",
       "    </tr>\n",
       "  </thead>\n",
       "  <tbody>\n",
       "    <tr>\n",
       "      <th>0</th>\n",
       "      <td>196</td>\n",
       "      <td>49.0</td>\n",
       "      <td>M</td>\n",
       "      <td>writer</td>\n",
       "      <td>242</td>\n",
       "      <td>3.0</td>\n",
       "      <td>Comedy</td>\n",
       "      <td>881250949</td>\n",
       "      <td>1.0</td>\n",
       "      <td>19.0</td>\n",
       "      <td>4.0</td>\n",
       "    </tr>\n",
       "    <tr>\n",
       "      <th>1</th>\n",
       "      <td>22</td>\n",
       "      <td>25.0</td>\n",
       "      <td>M</td>\n",
       "      <td>writer</td>\n",
       "      <td>377</td>\n",
       "      <td>1.0</td>\n",
       "      <td>Children</td>\n",
       "      <td>878887116</td>\n",
       "      <td>1.0</td>\n",
       "      <td>19.0</td>\n",
       "      <td>3.0</td>\n",
       "    </tr>\n",
       "    <tr>\n",
       "      <th>2</th>\n",
       "      <td>244</td>\n",
       "      <td>28.0</td>\n",
       "      <td>M</td>\n",
       "      <td>technician</td>\n",
       "      <td>51</td>\n",
       "      <td>2.0</td>\n",
       "      <td>Romance</td>\n",
       "      <td>880606923</td>\n",
       "      <td>1.0</td>\n",
       "      <td>18.0</td>\n",
       "      <td>13.0</td>\n",
       "    </tr>\n",
       "    <tr>\n",
       "      <th>3</th>\n",
       "      <td>298</td>\n",
       "      <td>44.0</td>\n",
       "      <td>M</td>\n",
       "      <td>executive</td>\n",
       "      <td>474</td>\n",
       "      <td>4.0</td>\n",
       "      <td>War</td>\n",
       "      <td>884182806</td>\n",
       "      <td>1.0</td>\n",
       "      <td>6.0</td>\n",
       "      <td>16.0</td>\n",
       "    </tr>\n",
       "    <tr>\n",
       "      <th>4</th>\n",
       "      <td>253</td>\n",
       "      <td>26.0</td>\n",
       "      <td>F</td>\n",
       "      <td>librarian</td>\n",
       "      <td>465</td>\n",
       "      <td>5.0</td>\n",
       "      <td>Adventure</td>\n",
       "      <td>891628467</td>\n",
       "      <td>0.0</td>\n",
       "      <td>10.0</td>\n",
       "      <td>1.0</td>\n",
       "    </tr>\n",
       "    <tr>\n",
       "      <th>...</th>\n",
       "      <td>...</td>\n",
       "      <td>...</td>\n",
       "      <td>...</td>\n",
       "      <td>...</td>\n",
       "      <td>...</td>\n",
       "      <td>...</td>\n",
       "      <td>...</td>\n",
       "      <td>...</td>\n",
       "      <td>...</td>\n",
       "      <td>...</td>\n",
       "      <td>...</td>\n",
       "    </tr>\n",
       "    <tr>\n",
       "      <th>96849</th>\n",
       "      <td>880</td>\n",
       "      <td>13.0</td>\n",
       "      <td>M</td>\n",
       "      <td>student</td>\n",
       "      <td>476</td>\n",
       "      <td>3.0</td>\n",
       "      <td>Comedy</td>\n",
       "      <td>880175444</td>\n",
       "      <td>1.0</td>\n",
       "      <td>17.0</td>\n",
       "      <td>4.0</td>\n",
       "    </tr>\n",
       "    <tr>\n",
       "      <th>96850</th>\n",
       "      <td>716</td>\n",
       "      <td>36.0</td>\n",
       "      <td>F</td>\n",
       "      <td>administrator</td>\n",
       "      <td>204</td>\n",
       "      <td>5.0</td>\n",
       "      <td>Sci-Fi</td>\n",
       "      <td>879795543</td>\n",
       "      <td>0.0</td>\n",
       "      <td>0.0</td>\n",
       "      <td>14.0</td>\n",
       "    </tr>\n",
       "    <tr>\n",
       "      <th>96851</th>\n",
       "      <td>276</td>\n",
       "      <td>21.0</td>\n",
       "      <td>M</td>\n",
       "      <td>student</td>\n",
       "      <td>1090</td>\n",
       "      <td>1.0</td>\n",
       "      <td>Thriller</td>\n",
       "      <td>874795795</td>\n",
       "      <td>1.0</td>\n",
       "      <td>17.0</td>\n",
       "      <td>15.0</td>\n",
       "    </tr>\n",
       "    <tr>\n",
       "      <th>96852</th>\n",
       "      <td>13</td>\n",
       "      <td>47.0</td>\n",
       "      <td>M</td>\n",
       "      <td>educator</td>\n",
       "      <td>225</td>\n",
       "      <td>2.0</td>\n",
       "      <td>Comedy</td>\n",
       "      <td>882399156</td>\n",
       "      <td>1.0</td>\n",
       "      <td>3.0</td>\n",
       "      <td>4.0</td>\n",
       "    </tr>\n",
       "    <tr>\n",
       "      <th>96853</th>\n",
       "      <td>12</td>\n",
       "      <td>28.0</td>\n",
       "      <td>F</td>\n",
       "      <td>other</td>\n",
       "      <td>203</td>\n",
       "      <td>3.0</td>\n",
       "      <td>Western</td>\n",
       "      <td>879959583</td>\n",
       "      <td>0.0</td>\n",
       "      <td>12.0</td>\n",
       "      <td>17.0</td>\n",
       "    </tr>\n",
       "  </tbody>\n",
       "</table>\n",
       "<p>96854 rows × 11 columns</p>\n",
       "</div>"
      ],
      "text/plain": [
       "       userId   age gender     occupation  movieId  rating      genre  \\\n",
       "0         196  49.0      M         writer      242     3.0     Comedy   \n",
       "1          22  25.0      M         writer      377     1.0   Children   \n",
       "2         244  28.0      M     technician       51     2.0    Romance   \n",
       "3         298  44.0      M      executive      474     4.0        War   \n",
       "4         253  26.0      F      librarian      465     5.0  Adventure   \n",
       "...       ...   ...    ...            ...      ...     ...        ...   \n",
       "96849     880  13.0      M        student      476     3.0     Comedy   \n",
       "96850     716  36.0      F  administrator      204     5.0     Sci-Fi   \n",
       "96851     276  21.0      M        student     1090     1.0   Thriller   \n",
       "96852      13  47.0      M       educator      225     2.0     Comedy   \n",
       "96853      12  28.0      F          other      203     3.0    Western   \n",
       "\n",
       "       timestamp  gender_code  occupation_code  genre_code  \n",
       "0      881250949          1.0             19.0         4.0  \n",
       "1      878887116          1.0             19.0         3.0  \n",
       "2      880606923          1.0             18.0        13.0  \n",
       "3      884182806          1.0              6.0        16.0  \n",
       "4      891628467          0.0             10.0         1.0  \n",
       "...          ...          ...              ...         ...  \n",
       "96849  880175444          1.0             17.0         4.0  \n",
       "96850  879795543          0.0              0.0        14.0  \n",
       "96851  874795795          1.0             17.0        15.0  \n",
       "96852  882399156          1.0              3.0         4.0  \n",
       "96853  879959583          0.0             12.0        17.0  \n",
       "\n",
       "[96854 rows x 11 columns]"
      ]
     },
     "execution_count": 215,
     "metadata": {},
     "output_type": "execute_result"
    }
   ],
   "source": [
    "# Using join() to add new float64 features to the original dataset to observe the correalation with rating\n",
    "df = df.join(obj_df)\n",
    "df"
   ]
  },
  {
   "cell_type": "code",
   "execution_count": 216,
   "id": "891c5a27",
   "metadata": {},
   "outputs": [
    {
     "data": {
      "text/html": [
       "<div>\n",
       "<style scoped>\n",
       "    .dataframe tbody tr th:only-of-type {\n",
       "        vertical-align: middle;\n",
       "    }\n",
       "\n",
       "    .dataframe tbody tr th {\n",
       "        vertical-align: top;\n",
       "    }\n",
       "\n",
       "    .dataframe thead th {\n",
       "        text-align: right;\n",
       "    }\n",
       "</style>\n",
       "<table border=\"1\" class=\"dataframe\">\n",
       "  <thead>\n",
       "    <tr style=\"text-align: right;\">\n",
       "      <th></th>\n",
       "      <th>rating</th>\n",
       "      <th>gender_code</th>\n",
       "      <th>occupation_code</th>\n",
       "      <th>genre_code</th>\n",
       "      <th>age</th>\n",
       "    </tr>\n",
       "  </thead>\n",
       "  <tbody>\n",
       "    <tr>\n",
       "      <th>rating</th>\n",
       "      <td>1.000000</td>\n",
       "      <td>-0.007239</td>\n",
       "      <td>-0.033717</td>\n",
       "      <td>0.045250</td>\n",
       "      <td>0.051724</td>\n",
       "    </tr>\n",
       "    <tr>\n",
       "      <th>gender_code</th>\n",
       "      <td>-0.007239</td>\n",
       "      <td>1.000000</td>\n",
       "      <td>0.012117</td>\n",
       "      <td>-0.000509</td>\n",
       "      <td>0.037126</td>\n",
       "    </tr>\n",
       "    <tr>\n",
       "      <th>occupation_code</th>\n",
       "      <td>-0.033717</td>\n",
       "      <td>0.012117</td>\n",
       "      <td>1.000000</td>\n",
       "      <td>-0.011443</td>\n",
       "      <td>-0.370879</td>\n",
       "    </tr>\n",
       "    <tr>\n",
       "      <th>genre_code</th>\n",
       "      <td>0.045250</td>\n",
       "      <td>-0.000509</td>\n",
       "      <td>-0.011443</td>\n",
       "      <td>1.000000</td>\n",
       "      <td>0.027286</td>\n",
       "    </tr>\n",
       "    <tr>\n",
       "      <th>age</th>\n",
       "      <td>0.051724</td>\n",
       "      <td>0.037126</td>\n",
       "      <td>-0.370879</td>\n",
       "      <td>0.027286</td>\n",
       "      <td>1.000000</td>\n",
       "    </tr>\n",
       "  </tbody>\n",
       "</table>\n",
       "</div>"
      ],
      "text/plain": [
       "                   rating  gender_code  occupation_code  genre_code       age\n",
       "rating           1.000000    -0.007239        -0.033717    0.045250  0.051724\n",
       "gender_code     -0.007239     1.000000         0.012117   -0.000509  0.037126\n",
       "occupation_code -0.033717     0.012117         1.000000   -0.011443 -0.370879\n",
       "genre_code       0.045250    -0.000509        -0.011443    1.000000  0.027286\n",
       "age              0.051724     0.037126        -0.370879    0.027286  1.000000"
      ]
     },
     "execution_count": 216,
     "metadata": {},
     "output_type": "execute_result"
    }
   ],
   "source": [
    "# Correalation matrix for relevant the features of the dataframe\n",
    "df[['rating', 'gender_code', 'occupation_code', 'genre_code', 'age']].corr()"
   ]
  },
  {
   "cell_type": "code",
   "execution_count": 217,
   "id": "d9dce894",
   "metadata": {},
   "outputs": [
    {
     "data": {
      "text/plain": [
       "<AxesSubplot:>"
      ]
     },
     "execution_count": 217,
     "metadata": {},
     "output_type": "execute_result"
    },
    {
     "data": {
      "image/png": "[encoded data removed]",
      "text/plain": [
       "<Figure size 432x288 with 2 Axes>"
      ]
     },
     "metadata": {
      "needs_background": "light"
     },
     "output_type": "display_data"
    }
   ],
   "source": [
    "# Draw the heatmap using seaborn\n",
    "corrmat = df.corr()\n",
    "sns.heatmap(corrmat, vmax = .8, square = True)"
   ]
  },
  {
   "cell_type": "markdown",
   "id": "0187a93d",
   "metadata": {},
   "source": [
    "There is little to no correalation between rating and gender/occupation/genre/age. The feature with the most correalation with rating is age and the feature with the least correalation is gender. The low correaltion indicates that the features would be inaccurate in predicting rating. "
   ]
  },
  {
   "cell_type": "markdown",
   "id": "7606c849",
   "metadata": {},
   "source": [
    "### Split Training and Testing Data\n",
    "* Machine learning models are trained to help make predictions for the future. Normally, we need to randomly split the dataset into training and testing sets, where we use the training set to train the model, and then leverage the well-trained model to make predictions on the testing set. \n",
    "* To further investigate whether the size of the training/testing data affects the model performance, please random split the data into training and testing sets with different sizes:\n",
    "    * Case 1: training data containing 10% of the entire data;\n",
    "    * Case 2: training data containing 90% of the entire data. \n",
    "* Print the shape of training and testing sets in the two cases. "
   ]
  },
  {
   "cell_type": "code",
   "execution_count": 218,
   "id": "f8eeeec6",
   "metadata": {},
   "outputs": [
    {
     "name": "stdout",
     "output_type": "stream",
     "text": [
      "Shape of training data for case 1 (9685, 11)\n",
      "Shape of testing data for case 1 (87169, 11)\n"
     ]
    }
   ],
   "source": [
    "# For Case 1 split the data into training and testing sets with the training data containg 10% of the data set \n",
    "trainC1, testC1 = train_test_split(df, test_size=0.9, random_state=50)\n",
    "print('Shape of training data for case 1', trainC1.shape)\n",
    "print('Shape of testing data for case 1', testC1.shape)"
   ]
  },
  {
   "cell_type": "code",
   "execution_count": 219,
   "id": "79ae8c9c",
   "metadata": {},
   "outputs": [
    {
     "name": "stdout",
     "output_type": "stream",
     "text": [
      "Shape of training data for case 2 (87168, 11)\n",
      "Shape of testing data for case 2 (9686, 11)\n"
     ]
    }
   ],
   "source": [
    "# For Case 2 split the data into training and testing sets with the training data containg 90% of the data set\n",
    "trainC2, testC2 = train_test_split(df, test_size=0.1, random_state=50)\n",
    "print('Shape of training data for case 2',trainC2.shape)\n",
    "print('Shape of testing data for case 2',testC2.shape)"
   ]
  },
  {
   "cell_type": "markdown",
   "id": "14600224",
   "metadata": {},
   "source": [
    "### Train Linear Regression Models with Feature Selection under Cases 1 & 2\n",
    "* When training a machine learning model for prediction, we may need to select the most important/correlated input features for more accurate results. \n",
    "* To investigate whether feature selection affects the model performance, please select two most correlated features and two least correlated features regarding rating, respectively. \n",
    "* Train four linear regression models by following the conditions:\n",
    "    - (model-a) using the training/testing data in case 1 with two most correlated input features\n",
    "    - (model-b) using the training/testing data in case 1 with two least correlated input features\n",
    "    - (model-c) using the training/testing data in case 2 with two most correlated input features\n",
    "    - (model-d) using the training/testing data in case 2 with two least correlated input features\n",
    "* By doing this, we can verify the impacts of the size of traing/testing data on the model performance via comparing model-a and model-c (or model-b and model-d); meanwhile the impacts of feature selection can be validated via comparing model-a and model-b (or model-c and model-d).    "
   ]
  },
  {
   "cell_type": "markdown",
   "id": "d7a27b38",
   "metadata": {},
   "source": [
    "Most correalated features: Age and Genre\\\n",
    "Least correalated features: Occupation and Gender"
   ]
  },
  {
   "cell_type": "code",
   "execution_count": 220,
   "id": "bee417e0",
   "metadata": {},
   "outputs": [
    {
     "name": "stdout",
     "output_type": "stream",
     "text": [
      "y = x * [0.01259623 0.00614155] + 3.2465306849421633\n"
     ]
    }
   ],
   "source": [
    "# Train model with Case 1 with 2 most correalated features\n",
    "reg = linear_model.LinearRegression()\n",
    "Xtrain_C1_highcorr = trainC1[['genre_code', 'age']]\n",
    "Ytrain_C1 = trainC1['rating']\n",
    "Xtest_C1_highcorr = testC1[['genre_code', 'age']]\n",
    "Ytest_C1 = testC1['rating']\n",
    "\n",
    "regc1high = reg.fit(Xtrain_C1_highcorr, Ytrain_C1)\n",
    "print(\"y = x *\", regc1high.coef_, \"+\", regc1high.intercept_)"
   ]
  },
  {
   "cell_type": "code",
   "execution_count": 221,
   "id": "06f57522",
   "metadata": {},
   "outputs": [
    {
     "name": "stdout",
     "output_type": "stream",
     "text": [
      "y = x * [-0.00633822 -0.01905025] + 3.6237900838599635\n"
     ]
    }
   ],
   "source": [
    "# Train model with Case 1 with 2 least correalated features\n",
    "reg = linear_model.LinearRegression()\n",
    "Xtrain_C1_lowcorr = trainC1[['occupation_code', 'gender_code']]\n",
    "Ytrain_C1 = trainC1['rating']\n",
    "Xtest_C1_lowcorr = testC1[['occupation_code', 'gender_code']]\n",
    "Ytest_C1 = testC1['rating']\n",
    "\n",
    "regc1low = reg.fit(Xtrain_C1_lowcorr, Ytrain_C1)\n",
    "print(\"y = x *\", regc1low.coef_, \"+\", regc1low.intercept_)"
   ]
  },
  {
   "cell_type": "code",
   "execution_count": 222,
   "id": "60935ae6",
   "metadata": {},
   "outputs": [
    {
     "name": "stdout",
     "output_type": "stream",
     "text": [
      "y = x * [0.01000462 0.0049357 ] + 3.3087897466459144\n"
     ]
    }
   ],
   "source": [
    "# Train model with Case 2 with 2 most correalated features\n",
    "reg = linear_model.LinearRegression()\n",
    "Xtrain_C2_highcorr = trainC2[['genre_code', 'age']]\n",
    "Ytrain_C2 = trainC2['rating']\n",
    "Xtest_C2_highcorr = testC2[['genre_code', 'age']]\n",
    "Ytest_C2 = testC2['rating']\n",
    "\n",
    "regc2high = reg.fit(Xtrain_C2_highcorr, Ytrain_C2)\n",
    "print(\"y = x *\", regc2high.coef_, \"+\", regc2high.intercept_)"
   ]
  },
  {
   "cell_type": "code",
   "execution_count": 223,
   "id": "7b2bff17",
   "metadata": {},
   "outputs": [
    {
     "name": "stdout",
     "output_type": "stream",
     "text": [
      "y = x * [-0.00607893 -0.0103432 ] + 3.61838644475806\n"
     ]
    }
   ],
   "source": [
    "# Train model with Case 2 with 2 least correalated features\n",
    "reg = linear_model.LinearRegression()\n",
    "Xtrain_C2_lowcorr = trainC2[['occupation_code', 'gender_code']]\n",
    "Ytrain_C2 = trainC2['rating']\n",
    "Xtest_C2_lowcorr = testC2[['occupation_code', 'gender_code']]\n",
    "Ytest_C2 = testC2['rating']\n",
    "\n",
    "regc2low = reg.fit(Xtrain_C2_lowcorr, Ytrain_C2)\n",
    "print(\"y = x *\", regc2low.coef_, \"+\", regc2low.intercept_)"
   ]
  },
  {
   "cell_type": "markdown",
   "id": "f85c7279",
   "metadata": {},
   "source": [
    "### Evaluate Models\n",
    "* Evaluate the performance of the four models with two metrics, including MSE and Root MSE\n",
    "* Print the results of the four models regarding the two metrics"
   ]
  },
  {
   "cell_type": "code",
   "execution_count": 224,
   "id": "ecc88e5a",
   "metadata": {},
   "outputs": [
    {
     "name": "stdout",
     "output_type": "stream",
     "text": [
      "Test Set Performance:\n",
      "MSE: 1.2397423834339478\n",
      "Root MSE: 1.1134371933045653\n"
     ]
    }
   ],
   "source": [
    "# Evaluate model with Case 1 with 2 most correalated features\n",
    "predc1high = regc1high.predict(Xtest_C1_highcorr)\n",
    "mse_c1_high = mean_squared_error(Ytest_C1, predc1high)\n",
    "r2_c1_high = r2_score(Ytest_C1, predc1high)\n",
    "print('Test Set Performance:')\n",
    "print(\"MSE:\", mse_c1_high)\n",
    "print(\"Root MSE:\", np.sqrt(mse_c1_high))"
   ]
  },
  {
   "cell_type": "code",
   "execution_count": 225,
   "id": "a3f8e3f4",
   "metadata": {},
   "outputs": [
    {
     "name": "stdout",
     "output_type": "stream",
     "text": [
      "Test Set Performance:\n",
      "MSE: 1.2432263013783258\n",
      "Root MSE: 1.1150005835775718\n"
     ]
    }
   ],
   "source": [
    "# Evaluate model with Case 1 with 2 least correalated features\n",
    "predc1low = regc1low.predict(Xtest_C1_lowcorr)\n",
    "mse_c1_low = mean_squared_error(Ytest_C1, predc1low)\n",
    "r2_c1_low = r2_score(Ytest_C1, predc1low)\n",
    "print('Test Set Performance:')\n",
    "print(\"MSE:\", mse_c1_low)\n",
    "print(\"Root MSE:\", np.sqrt(mse_c1_low))"
   ]
  },
  {
   "cell_type": "code",
   "execution_count": 226,
   "id": "76235017",
   "metadata": {},
   "outputs": [
    {
     "name": "stdout",
     "output_type": "stream",
     "text": [
      "Test Set Performance:\n",
      "MSE: 1.2522434816657781\n",
      "Root MSE: 1.119036854471638\n"
     ]
    }
   ],
   "source": [
    "# Evaluate model with Case 2 with 2 most correalated features\n",
    "predc2high = regc2high.predict(Xtest_C2_highcorr)\n",
    "mse_c2_high = mean_squared_error(Ytest_C2, predc2high)\n",
    "r2_c2_high = r2_score(Ytest_C2, predc2high)\n",
    "print('Test Set Performance:')\n",
    "print(\"MSE:\", mse_c2_high)\n",
    "print(\"Root MSE:\", np.sqrt(mse_c2_high))"
   ]
  },
  {
   "cell_type": "code",
   "execution_count": 227,
   "id": "b898438f",
   "metadata": {},
   "outputs": [
    {
     "name": "stdout",
     "output_type": "stream",
     "text": [
      "Test Set Performance:\n",
      "MSE: 1.2558781129195087\n",
      "Root MSE: 1.1206596775647408\n"
     ]
    }
   ],
   "source": [
    "# Evaluate model with Case 2 with 2 least correalated features\n",
    "predc2low = regc2low.predict(Xtest_C2_lowcorr)                   \n",
    "mse_c2_low = mean_squared_error(Ytest_C2, predc2low)\n",
    "r2_c2_low = r2_score(Ytest_C2, predc2low)\n",
    "print('Test Set Performance:')\n",
    "print(\"MSE:\", mse_c2_low)\n",
    "print(\"Root MSE:\", np.sqrt(mse_c2_low))"
   ]
  },
  {
   "cell_type": "markdown",
   "id": "8c614fb5",
   "metadata": {},
   "source": [
    "### Visualize, Compare and Analyze the Results\n",
    "* Visulize the results, and perform ___insightful analysis___ on the obtained results. For better visualization, you may need to carefully set the scale for the y-axis.\n",
    "* Normally, the model trained with most correlated features and more training data will get better results. Do you obtain the similar observations? If not, please ___explain the possible reasons___."
   ]
  },
  {
   "cell_type": "markdown",
   "id": "fea263d1",
   "metadata": {},
   "source": [
    "Comparasin of the accuaracy of the different models."
   ]
  },
  {
   "cell_type": "code",
   "execution_count": 228,
   "id": "6305fc12",
   "metadata": {},
   "outputs": [
    {
     "name": "stdout",
     "output_type": "stream",
     "text": [
      "Requirement already satisfied: tabulate in c:\\users\\mkaan\\anaconda3\\lib\\site-packages (0.8.9)\n",
      "Note: you may need to restart the kernel to use updated packages.\n"
     ]
    }
   ],
   "source": [
    "pip install tabulate"
   ]
  },
  {
   "cell_type": "code",
   "execution_count": 229,
   "id": "cc7ab300",
   "metadata": {},
   "outputs": [],
   "source": [
    "from tabulate import tabulate"
   ]
  },
  {
   "cell_type": "code",
   "execution_count": 230,
   "id": "665828f9",
   "metadata": {},
   "outputs": [
    {
     "name": "stdout",
     "output_type": "stream",
     "text": [
      "╒═══════════════════════════════╤═════════╤═════════╕\n",
      "│ Case                          │     MSE │    RMSE │\n",
      "╞═══════════════════════════════╪═════════╪═════════╡\n",
      "│ Case 1 With High Correalation │ 1.23974 │ 1.11344 │\n",
      "├───────────────────────────────┼─────────┼─────────┤\n",
      "│ Case 1 With Low Correalation  │ 1.24323 │ 1.115   │\n",
      "├───────────────────────────────┼─────────┼─────────┤\n",
      "│ Case 2 With High Correalation │ 1.25224 │ 1.11904 │\n",
      "├───────────────────────────────┼─────────┼─────────┤\n",
      "│ Case 2 With Low Correalation  │ 1.25588 │ 1.12066 │\n",
      "╘═══════════════════════════════╧═════════╧═════════╛\n"
     ]
    }
   ],
   "source": [
    "# Create table to compare MSE and RMSE values for each case\n",
    "data = [[\"Case 1 With High Correalation\", mse_c1_high, np.sqrt(mse_c1_high)], \n",
    "        [\"Case 1 With Low Correalation\", mse_c1_low, np.sqrt(mse_c1_low)], \n",
    "        [\"Case 2 With High Correalation\", mse_c2_high, np.sqrt(mse_c2_high)], \n",
    "        [\"Case 2 With Low Correalation\", mse_c2_low, np.sqrt(mse_c2_low)]]\n",
    "col_names = [\"Case\", \"MSE\", \"RMSE\"]\n",
    "print(tabulate(data, headers=col_names, tablefmt=\"fancy_grid\"))"
   ]
  },
  {
   "cell_type": "code",
   "execution_count": 231,
   "id": "63680a71",
   "metadata": {},
   "outputs": [
    {
     "data": {
      "text/plain": [
       "(1.0, 1.5)"
      ]
     },
     "execution_count": 231,
     "metadata": {},
     "output_type": "execute_result"
    },
    {
     "data": {
      "image/png": "[encoded data removed]",
      "text/plain": [
       "<Figure size 576x576 with 1 Axes>"
      ]
     },
     "metadata": {
      "needs_background": "light"
     },
     "output_type": "display_data"
    }
   ],
   "source": [
    "# Use a bar chart to visualize the MSE values for each model\n",
    "y = [mse_c1_high, mse_c1_low, mse_c2_high, mse_c2_low]\n",
    "x = ['Case 1 High Corr', 'Case 1 Low Corr', 'Case 2 High Corr', 'Case 2 Low Corr']\n",
    "plt.figure(figsize=(8, 8))\n",
    "plt.bar(x, y, width=1, color=['blue', 'green', 'yellow', 'red'],  edgecolor='black')\n",
    "plt.xlabel(\"Model\", size = 15)\n",
    "plt.xticks(fontsize=12)\n",
    "plt.title(\"Mean Squared Error\", size = 20)\n",
    "plt.ylim(1, 1.5)"
   ]
  },
  {
   "cell_type": "code",
   "execution_count": 232,
   "id": "7d0f85aa",
   "metadata": {},
   "outputs": [
    {
     "data": {
      "text/plain": [
       "(1.0, 1.5)"
      ]
     },
     "execution_count": 232,
     "metadata": {},
     "output_type": "execute_result"
    },
    {
     "data": {
      "image/png": "[encoded data removed]",
      "text/plain": [
       "<Figure size 576x576 with 1 Axes>"
      ]
     },
     "metadata": {
      "needs_background": "light"
     },
     "output_type": "display_data"
    }
   ],
   "source": [
    "# Use a bar chart to visualize the RMSE values for each model\n",
    "y = [np.sqrt(mse_c1_high), np.sqrt(mse_c1_low), np.sqrt(mse_c2_high), np.sqrt(mse_c2_low)]\n",
    "x = ['Case 1 High Corr', 'Case 1 Low Corr', 'Case 2 High Corr', 'Case 2 Low Corr']\n",
    "plt.figure(figsize=(8, 8))\n",
    "plt.bar(x, y, width=1, color=['blue', 'green', 'yellow', 'red'],  edgecolor='black')\n",
    "plt.xlabel(\"Model\", size = 15)\n",
    "plt.xticks(fontsize=12)\n",
    "plt.title(\"Root Mean Squared Error\", size = 20)\n",
    "plt.ylim(1, 1.5)"
   ]
  },
  {
   "cell_type": "markdown",
   "id": "5c8da0d3",
   "metadata": {},
   "source": [
    "# Conlusion"
   ]
  },
  {
   "cell_type": "markdown",
   "id": "6fc79499",
   "metadata": {},
   "source": [
    "As predicted the model has preformed poorly in predicting the rating using the Age/Genre/Gender/Occupation features. This is shown by the high mse and rmse values. The case 1 models were slightly more accurate that the case 2 models despite them having much less training data, which was unexpected. However the models using the higher correalated features were more accurate, with respect to their cases, than the models with the lower correalated features, which was expected. The unexpected and innacurate results are possibly due to the fact that an ordinal encoder was used on the categorical features even though they were not ordered categories. Henceforth the models were not accurate. "
   ]
  }
 ],
 "metadata": {
  "kernelspec": {
   "display_name": "Python 3 (ipykernel)",
   "language": "python",
   "name": "python3"
  },
  "language_info": {
   "codemirror_mode": {
    "name": "ipython",
    "version": 3
   },
   "file_extension": ".py",
   "mimetype": "text/x-python",
   "name": "python",
   "nbconvert_exporter": "python",
   "pygments_lexer": "ipython3",
   "version": "3.9.7"
  }
 },
 "nbformat": 4,
 "nbformat_minor": 5
}
