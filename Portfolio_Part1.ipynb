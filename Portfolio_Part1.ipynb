{
 "cells": [
  {
   "cell_type": "markdown",
   "id": "03bfe56f",
   "metadata": {},
   "source": [
    "### Analysis of MovieLens Data\n",
    "\n",
    "We are provided with the MovieLens data collected by the GroupLens Research Project at the University of Minnesota.\n",
    "In particular, the data was collected through the MovieLens web site (movielens.umn.edu), which records a number of users' ratings (1-5) towards their watched movies. Besides, simple demographic info (e.g., age and gender) for the users and descriptive info (e.g., title and genre) for the movies are provided. \n",
    "\n",
    "Originally, there are several separate files to record the user-movie rating info, user demographic info and movie descriptive info, we have conducted preliminary processing to map and merge the data into one csv file named 'movielens_data.csv'. The header of the csv file is shown below. \n",
    "\n",
    "| userId | age | gender | occupation| movieId | rating | genre | timestamp |\n",
    "    | ---- | ---- | ---- | ---- | ---- | ---- | ---- | ---- | \n",
    "    \n",
    "#### Description of Fields\n",
    "\n",
    "* __userId__ - the user's id\n",
    "* __age__ - the user's age\n",
    "* __gender__ - the user's gender\n",
    "* __occupation__ - the user's occupation\n",
    "* __movieId__ - the movie's id\n",
    "* __rating__ - the user's rating towards the movie\n",
    "* __genre__ - the genre of the movie\n",
    "* __timestamp__ - the timestamp indicating when the user rated the movie\n",
    "\n",
    "Note that, a same user (i.e., a same userId) corresponds to a same age/gender/occupation; a same movie (i.e., a same movieId) corresponds to a same genre; a same user (i.e., a same userId) may rate multiple movies and a same movie (i.e., a same movieId) may receive ratings from multiple users.\n",
    "\n",
    "There are four questions to explore with the data as shown below."
   ]
  },
  {
   "cell_type": "code",
   "execution_count": 57,
   "id": "71c78982",
   "metadata": {},
   "outputs": [
    {
     "name": "stdout",
     "output_type": "stream",
     "text": [
      "(100000, 8)\n"
     ]
    },
    {
     "data": {
      "text/html": [
       "<div>\n",
       "<style scoped>\n",
       "    .dataframe tbody tr th:only-of-type {\n",
       "        vertical-align: middle;\n",
       "    }\n",
       "\n",
       "    .dataframe tbody tr th {\n",
       "        vertical-align: top;\n",
       "    }\n",
       "\n",
       "    .dataframe thead th {\n",
       "        text-align: right;\n",
       "    }\n",
       "</style>\n",
       "<table border=\"1\" class=\"dataframe\">\n",
       "  <thead>\n",
       "    <tr style=\"text-align: right;\">\n",
       "      <th></th>\n",
       "      <th>userId</th>\n",
       "      <th>age</th>\n",
       "      <th>gender</th>\n",
       "      <th>occupation</th>\n",
       "      <th>movieId</th>\n",
       "      <th>rating</th>\n",
       "      <th>genre</th>\n",
       "      <th>timestamp</th>\n",
       "    </tr>\n",
       "  </thead>\n",
       "  <tbody>\n",
       "    <tr>\n",
       "      <th>0</th>\n",
       "      <td>196</td>\n",
       "      <td>49.0</td>\n",
       "      <td>M</td>\n",
       "      <td>writer</td>\n",
       "      <td>242</td>\n",
       "      <td>3.0</td>\n",
       "      <td>Comedy</td>\n",
       "      <td>881250949</td>\n",
       "    </tr>\n",
       "    <tr>\n",
       "      <th>1</th>\n",
       "      <td>186</td>\n",
       "      <td>39.0</td>\n",
       "      <td>F</td>\n",
       "      <td>executive</td>\n",
       "      <td>302</td>\n",
       "      <td>NaN</td>\n",
       "      <td>Crime</td>\n",
       "      <td>891717742</td>\n",
       "    </tr>\n",
       "    <tr>\n",
       "      <th>2</th>\n",
       "      <td>22</td>\n",
       "      <td>25.0</td>\n",
       "      <td>M</td>\n",
       "      <td>writer</td>\n",
       "      <td>377</td>\n",
       "      <td>1.0</td>\n",
       "      <td>Children</td>\n",
       "      <td>878887116</td>\n",
       "    </tr>\n",
       "    <tr>\n",
       "      <th>3</th>\n",
       "      <td>244</td>\n",
       "      <td>28.0</td>\n",
       "      <td>M</td>\n",
       "      <td>technician</td>\n",
       "      <td>51</td>\n",
       "      <td>2.0</td>\n",
       "      <td>Romance</td>\n",
       "      <td>880606923</td>\n",
       "    </tr>\n",
       "    <tr>\n",
       "      <th>4</th>\n",
       "      <td>166</td>\n",
       "      <td>47.0</td>\n",
       "      <td>NaN</td>\n",
       "      <td>educator</td>\n",
       "      <td>346</td>\n",
       "      <td>1.0</td>\n",
       "      <td>Drama</td>\n",
       "      <td>886397596</td>\n",
       "    </tr>\n",
       "  </tbody>\n",
       "</table>\n",
       "</div>"
      ],
      "text/plain": [
       "   userId   age gender  occupation  movieId  rating     genre  timestamp\n",
       "0     196  49.0      M      writer      242     3.0    Comedy  881250949\n",
       "1     186  39.0      F   executive      302     NaN     Crime  891717742\n",
       "2      22  25.0      M      writer      377     1.0  Children  878887116\n",
       "3     244  28.0      M  technician       51     2.0   Romance  880606923\n",
       "4     166  47.0    NaN    educator      346     1.0     Drama  886397596"
      ]
     },
     "execution_count": 57,
     "metadata": {},
     "output_type": "execute_result"
    }
   ],
   "source": [
    "import numpy as np\n",
    "import pandas as pd\n",
    "import matplotlib.pyplot as plt\n",
    "%matplotlib inline\n",
    "import seaborn as sns\n",
    "\n",
    "df = pd.read_csv('files/movielens_data.csv')\n",
    "print(df.shape)\n",
    "df.head()"
   ]
  },
  {
   "cell_type": "markdown",
   "id": "55934c71",
   "metadata": {},
   "source": [
    " #### Q1. Remove missing data\n",
    " \n",
    "Please remove the following records in the csv file: \n",
    " \n",
    " * age/gender/rating is missing\n",
    " * occupation is 'none'\n",
    "\n",
    "__Print the length of the data__ before and after removing the missing data.  "
   ]
  },
  {
   "cell_type": "code",
   "execution_count": 58,
   "id": "570506fb",
   "metadata": {},
   "outputs": [
    {
     "data": {
      "text/plain": [
       "100000"
      ]
     },
     "execution_count": 58,
     "metadata": {},
     "output_type": "execute_result"
    }
   ],
   "source": [
    "len(df)"
   ]
  },
  {
   "cell_type": "code",
   "execution_count": 59,
   "id": "b2f0a9f6",
   "metadata": {},
   "outputs": [
    {
     "data": {
      "text/html": [
       "<div>\n",
       "<style scoped>\n",
       "    .dataframe tbody tr th:only-of-type {\n",
       "        vertical-align: middle;\n",
       "    }\n",
       "\n",
       "    .dataframe tbody tr th {\n",
       "        vertical-align: top;\n",
       "    }\n",
       "\n",
       "    .dataframe thead th {\n",
       "        text-align: right;\n",
       "    }\n",
       "</style>\n",
       "<table border=\"1\" class=\"dataframe\">\n",
       "  <thead>\n",
       "    <tr style=\"text-align: right;\">\n",
       "      <th></th>\n",
       "      <th>userId</th>\n",
       "      <th>age</th>\n",
       "      <th>gender</th>\n",
       "      <th>occupation</th>\n",
       "      <th>movieId</th>\n",
       "      <th>rating</th>\n",
       "      <th>genre</th>\n",
       "      <th>timestamp</th>\n",
       "    </tr>\n",
       "  </thead>\n",
       "  <tbody>\n",
       "    <tr>\n",
       "      <th>0</th>\n",
       "      <td>196</td>\n",
       "      <td>49.0</td>\n",
       "      <td>M</td>\n",
       "      <td>writer</td>\n",
       "      <td>242</td>\n",
       "      <td>3.0</td>\n",
       "      <td>Comedy</td>\n",
       "      <td>881250949</td>\n",
       "    </tr>\n",
       "    <tr>\n",
       "      <th>1</th>\n",
       "      <td>186</td>\n",
       "      <td>39.0</td>\n",
       "      <td>F</td>\n",
       "      <td>executive</td>\n",
       "      <td>302</td>\n",
       "      <td>NaN</td>\n",
       "      <td>Crime</td>\n",
       "      <td>891717742</td>\n",
       "    </tr>\n",
       "    <tr>\n",
       "      <th>2</th>\n",
       "      <td>22</td>\n",
       "      <td>25.0</td>\n",
       "      <td>M</td>\n",
       "      <td>writer</td>\n",
       "      <td>377</td>\n",
       "      <td>1.0</td>\n",
       "      <td>Children</td>\n",
       "      <td>878887116</td>\n",
       "    </tr>\n",
       "    <tr>\n",
       "      <th>3</th>\n",
       "      <td>244</td>\n",
       "      <td>28.0</td>\n",
       "      <td>M</td>\n",
       "      <td>technician</td>\n",
       "      <td>51</td>\n",
       "      <td>2.0</td>\n",
       "      <td>Romance</td>\n",
       "      <td>880606923</td>\n",
       "    </tr>\n",
       "    <tr>\n",
       "      <th>4</th>\n",
       "      <td>166</td>\n",
       "      <td>47.0</td>\n",
       "      <td>NaN</td>\n",
       "      <td>educator</td>\n",
       "      <td>346</td>\n",
       "      <td>1.0</td>\n",
       "      <td>Drama</td>\n",
       "      <td>886397596</td>\n",
       "    </tr>\n",
       "    <tr>\n",
       "      <th>...</th>\n",
       "      <td>...</td>\n",
       "      <td>...</td>\n",
       "      <td>...</td>\n",
       "      <td>...</td>\n",
       "      <td>...</td>\n",
       "      <td>...</td>\n",
       "      <td>...</td>\n",
       "      <td>...</td>\n",
       "    </tr>\n",
       "    <tr>\n",
       "      <th>99995</th>\n",
       "      <td>880</td>\n",
       "      <td>13.0</td>\n",
       "      <td>M</td>\n",
       "      <td>student</td>\n",
       "      <td>476</td>\n",
       "      <td>3.0</td>\n",
       "      <td>Comedy</td>\n",
       "      <td>880175444</td>\n",
       "    </tr>\n",
       "    <tr>\n",
       "      <th>99996</th>\n",
       "      <td>716</td>\n",
       "      <td>36.0</td>\n",
       "      <td>F</td>\n",
       "      <td>administrator</td>\n",
       "      <td>204</td>\n",
       "      <td>5.0</td>\n",
       "      <td>Sci-Fi</td>\n",
       "      <td>879795543</td>\n",
       "    </tr>\n",
       "    <tr>\n",
       "      <th>99997</th>\n",
       "      <td>276</td>\n",
       "      <td>21.0</td>\n",
       "      <td>M</td>\n",
       "      <td>student</td>\n",
       "      <td>1090</td>\n",
       "      <td>1.0</td>\n",
       "      <td>Thriller</td>\n",
       "      <td>874795795</td>\n",
       "    </tr>\n",
       "    <tr>\n",
       "      <th>99998</th>\n",
       "      <td>13</td>\n",
       "      <td>47.0</td>\n",
       "      <td>M</td>\n",
       "      <td>educator</td>\n",
       "      <td>225</td>\n",
       "      <td>2.0</td>\n",
       "      <td>Comedy</td>\n",
       "      <td>882399156</td>\n",
       "    </tr>\n",
       "    <tr>\n",
       "      <th>99999</th>\n",
       "      <td>12</td>\n",
       "      <td>28.0</td>\n",
       "      <td>F</td>\n",
       "      <td>other</td>\n",
       "      <td>203</td>\n",
       "      <td>3.0</td>\n",
       "      <td>Western</td>\n",
       "      <td>879959583</td>\n",
       "    </tr>\n",
       "  </tbody>\n",
       "</table>\n",
       "<p>99069 rows × 8 columns</p>\n",
       "</div>"
      ],
      "text/plain": [
       "       userId   age gender     occupation  movieId  rating     genre  \\\n",
       "0         196  49.0      M         writer      242     3.0    Comedy   \n",
       "1         186  39.0      F      executive      302     NaN     Crime   \n",
       "2          22  25.0      M         writer      377     1.0  Children   \n",
       "3         244  28.0      M     technician       51     2.0   Romance   \n",
       "4         166  47.0    NaN       educator      346     1.0     Drama   \n",
       "...       ...   ...    ...            ...      ...     ...       ...   \n",
       "99995     880  13.0      M        student      476     3.0    Comedy   \n",
       "99996     716  36.0      F  administrator      204     5.0    Sci-Fi   \n",
       "99997     276  21.0      M        student     1090     1.0  Thriller   \n",
       "99998      13  47.0      M       educator      225     2.0    Comedy   \n",
       "99999      12  28.0      F          other      203     3.0   Western   \n",
       "\n",
       "       timestamp  \n",
       "0      881250949  \n",
       "1      891717742  \n",
       "2      878887116  \n",
       "3      880606923  \n",
       "4      886397596  \n",
       "...          ...  \n",
       "99995  880175444  \n",
       "99996  879795543  \n",
       "99997  874795795  \n",
       "99998  882399156  \n",
       "99999  879959583  \n",
       "\n",
       "[99069 rows x 8 columns]"
      ]
     },
     "execution_count": 59,
     "metadata": {},
     "output_type": "execute_result"
    }
   ],
   "source": [
    "# Remove all values 'none' for occupation\n",
    "occup_df = df[df['occupation'] != 'none']\n",
    "occup_df"
   ]
  },
  {
   "cell_type": "code",
   "execution_count": 60,
   "id": "2e917a23",
   "metadata": {},
   "outputs": [
    {
     "data": {
      "text/plain": [
       "(array(['administrator', 'artist', 'doctor', 'educator', 'engineer',\n",
       "        'entertainment', 'executive', 'healthcare', 'homemaker', 'lawyer',\n",
       "        'librarian', 'marketing', 'other', 'programmer', 'retired',\n",
       "        'salesman', 'scientist', 'student', 'technician', 'writer'],\n",
       "       dtype=object),\n",
       " array([ 7479,  2308,   540,  9442,  8175,  2095,  3403,  2804,   299,\n",
       "         1345,  5273,  1950, 10633,  7801,  1609,   856,  2058, 21957,\n",
       "         3506,  5536], dtype=int64))"
      ]
     },
     "execution_count": 60,
     "metadata": {},
     "output_type": "execute_result"
    }
   ],
   "source": [
    "# Check 'none' has been removed from occupation \n",
    "np.unique(occup_df['occupation'], return_counts = True)"
   ]
  },
  {
   "cell_type": "code",
   "execution_count": 61,
   "id": "8a8e292d",
   "metadata": {},
   "outputs": [
    {
     "data": {
      "text/plain": [
       "rating    0\n",
       "age       0\n",
       "gender    0\n",
       "dtype: int64"
      ]
     },
     "execution_count": 61,
     "metadata": {},
     "output_type": "execute_result"
    }
   ],
   "source": [
    "# Remove rows with missing values in age, gender and rating\n",
    "df_clean = occup_df.dropna(how = 'any', subset = ['age', 'gender', 'rating'], axis = 0)\n",
    "df_clean[['rating', 'age', 'gender']].isna().sum() # Cheack for any na values in the columns"
   ]
  },
  {
   "cell_type": "code",
   "execution_count": 62,
   "id": "26f1d222",
   "metadata": {},
   "outputs": [
    {
     "data": {
      "text/plain": [
       "(99022, 8)"
      ]
     },
     "execution_count": 62,
     "metadata": {},
     "output_type": "execute_result"
    }
   ],
   "source": [
    "df_clean.shape"
   ]
  },
  {
   "cell_type": "markdown",
   "id": "063e08bf",
   "metadata": {},
   "source": [
    "#### Q2. Descriptive statistics\n",
    "\n",
    "With the cleaned data in Q1, please provide the data summarization as below:\n",
    "\n",
    "* Q2.1 total number of unique users, unique occupations, unique movies, and unique genres\n",
    "* Q2.2 descriptive statistics, e.g., the total number, mean, std, min and max regarding all rating records\n",
    "* Q2.3 descriptive statistics, e.g., mean, std, max, and min of the number of movies rated by each user \n",
    "* Q2.4 descriptive statistics, e.g., mean, std, max, min of the number of ratings that received by each movie \n"
   ]
  },
  {
   "cell_type": "code",
   "execution_count": 63,
   "id": "770278b5",
   "metadata": {},
   "outputs": [
    {
     "name": "stdout",
     "output_type": "stream",
     "text": [
      "Number of unique users: 934\n",
      "Number of unique occupations: 20\n",
      "Number of unique movies: 1682\n",
      "Number of unique genres: 19\n"
     ]
    }
   ],
   "source": [
    "# Q2.1 \n",
    "print('Number of unique users:',len(np.unique(df_clean['userId'])))\n",
    "print('Number of unique occupations:',len(np.unique(df_clean['occupation'])))\n",
    "print('Number of unique movies:',len(np.unique(df_clean['movieId'])))\n",
    "print('Number of unique genres:',len(np.unique(df_clean['genre'])))"
   ]
  },
  {
   "cell_type": "code",
   "execution_count": 64,
   "id": "2a30d063",
   "metadata": {},
   "outputs": [
    {
     "data": {
      "text/plain": [
       "count    99022.000000\n",
       "mean         3.527792\n",
       "std          1.125743\n",
       "min          1.000000\n",
       "25%          3.000000\n",
       "50%          4.000000\n",
       "75%          4.000000\n",
       "max          5.000000\n",
       "Name: rating, dtype: float64"
      ]
     },
     "execution_count": 64,
     "metadata": {},
     "output_type": "execute_result"
    }
   ],
   "source": [
    "# Q2.2\n",
    "df_clean['rating'].describe()"
   ]
  },
  {
   "cell_type": "code",
   "execution_count": 65,
   "id": "938826a7",
   "metadata": {},
   "outputs": [
    {
     "data": {
      "text/plain": [
       "count    934.000000\n",
       "mean     106.019272\n",
       "std      100.793963\n",
       "min       19.000000\n",
       "25%       33.000000\n",
       "50%       65.000000\n",
       "75%      148.000000\n",
       "max      736.000000\n",
       "Name: #ratings, dtype: float64"
      ]
     },
     "execution_count": 65,
     "metadata": {},
     "output_type": "execute_result"
    }
   ],
   "source": [
    "# Q2.3\n",
    "RatingsPerUser = np.unique(df_clean['userId'], return_counts = True) # Use np.unique to identify the unique values with counts\n",
    "RatingsPerUser = pd.DataFrame(RatingsPerUser) # Put the arrays into a data frame\n",
    "RatingsPerUser = RatingsPerUser.T # data frame with one column for the unique userIds and one for their counts\n",
    "RatingsPerUser.rename(columns={0: 'Unique_userId', 1: '#ratings'}, inplace = True) # Rename the columns  \n",
    "RatingsPerUser['#ratings'].describe() # Descriptive statistics"
   ]
  },
  {
   "cell_type": "code",
   "execution_count": 66,
   "id": "8de917fe",
   "metadata": {},
   "outputs": [
    {
     "data": {
      "text/plain": [
       "count    1682.000000\n",
       "mean       58.871581\n",
       "std        79.629796\n",
       "min         1.000000\n",
       "25%         6.000000\n",
       "50%        26.000000\n",
       "75%        79.000000\n",
       "max       578.000000\n",
       "Name: #ratings, dtype: float64"
      ]
     },
     "execution_count": 66,
     "metadata": {},
     "output_type": "execute_result"
    }
   ],
   "source": [
    "# Q2.4\n",
    "RatingsPerMovie = np.unique(df_clean['movieId'], return_counts = True) # Use np.unique to identify the unique values with counts\n",
    "RatingsPerMovie = pd.DataFrame(RatingsPerMovie) # Put the arrays into a data frame\n",
    "RatingsPerMovie = RatingsPerMovie.T # data frame with one column for the unique movieIds and one for their counts\n",
    "RatingsPerMovie.rename(columns={0: 'Unique_movie', 1: '#ratings'}, inplace = True) # Rename the columns \n",
    "RatingsPerMovie['#ratings'].describe() # Descriptive statistics"
   ]
  },
  {
   "cell_type": "markdown",
   "id": "7b070d5d",
   "metadata": {},
   "source": [
    "#### Q3. Plotting and Analysis\n",
    "\n",
    "Please try to explore the correlation between gender/occupation/genre and ratings; for instance, do female/male users tend to provide higher ratings than male/female users? Hint: you may use the boxplot function to plot figures for comparison (___Challenge___)\n",
    "    \n",
    "You may need to select the most suitable graphic forms for ease of presentation. Most importantly, for each figure or subfigure, please summarise ___what each plot shows___ (i.e. observations and explanations). Finally, you may need to provide an overall summary of the data."
   ]
  },
  {
   "cell_type": "code",
   "execution_count": 67,
   "id": "91c239f2",
   "metadata": {},
   "outputs": [
    {
     "data": {
      "text/html": [
       "<div>\n",
       "<style scoped>\n",
       "    .dataframe tbody tr th:only-of-type {\n",
       "        vertical-align: middle;\n",
       "    }\n",
       "\n",
       "    .dataframe tbody tr th {\n",
       "        vertical-align: top;\n",
       "    }\n",
       "\n",
       "    .dataframe thead th {\n",
       "        text-align: right;\n",
       "    }\n",
       "</style>\n",
       "<table border=\"1\" class=\"dataframe\">\n",
       "  <thead>\n",
       "    <tr style=\"text-align: right;\">\n",
       "      <th></th>\n",
       "      <th>rating</th>\n",
       "    </tr>\n",
       "    <tr>\n",
       "      <th>gender</th>\n",
       "      <th></th>\n",
       "    </tr>\n",
       "  </thead>\n",
       "  <tbody>\n",
       "    <tr>\n",
       "      <th>F</th>\n",
       "      <td>3.530667</td>\n",
       "    </tr>\n",
       "    <tr>\n",
       "      <th>M</th>\n",
       "      <td>3.526802</td>\n",
       "    </tr>\n",
       "  </tbody>\n",
       "</table>\n",
       "</div>"
      ],
      "text/plain": [
       "          rating\n",
       "gender          \n",
       "F       3.530667\n",
       "M       3.526802"
      ]
     },
     "execution_count": 67,
     "metadata": {},
     "output_type": "execute_result"
    }
   ],
   "source": [
    "# Comparasin of means for ratings given by males and females\n",
    "gend_rat = df_clean[['gender', 'rating']].groupby('gender').mean()\n",
    "gend_rat"
   ]
  },
  {
   "cell_type": "code",
   "execution_count": 68,
   "id": "ef06c98b",
   "metadata": {},
   "outputs": [
    {
     "data": {
      "text/plain": [
       "[Text(0.5, 1.0, 'Ratings by Gender')]"
      ]
     },
     "execution_count": 68,
     "metadata": {},
     "output_type": "execute_result"
    },
    {
     "data": {
      "image/png": "[encoded data removed]",
      "text/plain": [
       "<Figure size 720x576 with 1 Axes>"
      ]
     },
     "metadata": {},
     "output_type": "display_data"
    }
   ],
   "source": [
    "# Boxplot of the ratings given by males and females\n",
    "sns.set(rc={'figure.figsize':(10,8)})\n",
    "sns.boxplot(data = df_clean, x = 'gender', y = 'rating', showmeans=True).set(title='Ratings by Gender')"
   ]
  },
  {
   "cell_type": "markdown",
   "id": "05e530b5",
   "metadata": {},
   "source": [
    "The average ratings made by females are only slightly higher than those made by males, with the difference being approximately 0.004. The boxplot 'Ratings by Gender' shows that there is little to no difference in the variation of data between genders, with the interquartile range, maximum, minimum and outlier values all being equal. This shows that there is little to no correaltion between gender and rating."
   ]
  },
  {
   "cell_type": "code",
   "execution_count": 69,
   "id": "21058e27",
   "metadata": {},
   "outputs": [
    {
     "data": {
      "text/html": [
       "<div>\n",
       "<style scoped>\n",
       "    .dataframe tbody tr th:only-of-type {\n",
       "        vertical-align: middle;\n",
       "    }\n",
       "\n",
       "    .dataframe tbody tr th {\n",
       "        vertical-align: top;\n",
       "    }\n",
       "\n",
       "    .dataframe thead th {\n",
       "        text-align: right;\n",
       "    }\n",
       "</style>\n",
       "<table border=\"1\" class=\"dataframe\">\n",
       "  <thead>\n",
       "    <tr style=\"text-align: right;\">\n",
       "      <th></th>\n",
       "      <th>rating</th>\n",
       "    </tr>\n",
       "    <tr>\n",
       "      <th>occupation</th>\n",
       "      <th></th>\n",
       "    </tr>\n",
       "  </thead>\n",
       "  <tbody>\n",
       "    <tr>\n",
       "      <th>administrator</th>\n",
       "      <td>3.635889</td>\n",
       "    </tr>\n",
       "    <tr>\n",
       "      <th>artist</th>\n",
       "      <td>3.653380</td>\n",
       "    </tr>\n",
       "    <tr>\n",
       "      <th>doctor</th>\n",
       "      <td>3.690167</td>\n",
       "    </tr>\n",
       "    <tr>\n",
       "      <th>educator</th>\n",
       "      <td>3.671577</td>\n",
       "    </tr>\n",
       "    <tr>\n",
       "      <th>engineer</th>\n",
       "      <td>3.541539</td>\n",
       "    </tr>\n",
       "    <tr>\n",
       "      <th>entertainment</th>\n",
       "      <td>3.441050</td>\n",
       "    </tr>\n",
       "    <tr>\n",
       "      <th>executive</th>\n",
       "      <td>3.349029</td>\n",
       "    </tr>\n",
       "    <tr>\n",
       "      <th>healthcare</th>\n",
       "      <td>2.897216</td>\n",
       "    </tr>\n",
       "    <tr>\n",
       "      <th>homemaker</th>\n",
       "      <td>3.301003</td>\n",
       "    </tr>\n",
       "    <tr>\n",
       "      <th>lawyer</th>\n",
       "      <td>3.735316</td>\n",
       "    </tr>\n",
       "    <tr>\n",
       "      <th>librarian</th>\n",
       "      <td>3.561587</td>\n",
       "    </tr>\n",
       "    <tr>\n",
       "      <th>marketing</th>\n",
       "      <td>3.485113</td>\n",
       "    </tr>\n",
       "    <tr>\n",
       "      <th>other</th>\n",
       "      <td>3.552733</td>\n",
       "    </tr>\n",
       "    <tr>\n",
       "      <th>programmer</th>\n",
       "      <td>3.568313</td>\n",
       "    </tr>\n",
       "    <tr>\n",
       "      <th>retired</th>\n",
       "      <td>3.467662</td>\n",
       "    </tr>\n",
       "    <tr>\n",
       "      <th>salesman</th>\n",
       "      <td>3.582944</td>\n",
       "    </tr>\n",
       "    <tr>\n",
       "      <th>scientist</th>\n",
       "      <td>3.611273</td>\n",
       "    </tr>\n",
       "    <tr>\n",
       "      <th>student</th>\n",
       "      <td>3.514989</td>\n",
       "    </tr>\n",
       "    <tr>\n",
       "      <th>technician</th>\n",
       "      <td>3.532097</td>\n",
       "    </tr>\n",
       "    <tr>\n",
       "      <th>writer</th>\n",
       "      <td>3.375723</td>\n",
       "    </tr>\n",
       "  </tbody>\n",
       "</table>\n",
       "</div>"
      ],
      "text/plain": [
       "                 rating\n",
       "occupation             \n",
       "administrator  3.635889\n",
       "artist         3.653380\n",
       "doctor         3.690167\n",
       "educator       3.671577\n",
       "engineer       3.541539\n",
       "entertainment  3.441050\n",
       "executive      3.349029\n",
       "healthcare     2.897216\n",
       "homemaker      3.301003\n",
       "lawyer         3.735316\n",
       "librarian      3.561587\n",
       "marketing      3.485113\n",
       "other          3.552733\n",
       "programmer     3.568313\n",
       "retired        3.467662\n",
       "salesman       3.582944\n",
       "scientist      3.611273\n",
       "student        3.514989\n",
       "technician     3.532097\n",
       "writer         3.375723"
      ]
     },
     "execution_count": 69,
     "metadata": {},
     "output_type": "execute_result"
    }
   ],
   "source": [
    "# Comparasin of means for ratings given by different occupations\n",
    "occup_rat = df_clean[['occupation', 'rating']].groupby('occupation').mean()\n",
    "occup_rat"
   ]
  },
  {
   "cell_type": "code",
   "execution_count": 70,
   "id": "25f81add",
   "metadata": {},
   "outputs": [
    {
     "name": "stdout",
     "output_type": "stream",
     "text": [
      "Standard deviation of the average ratings given by each occupation: 0.18366951168078754\n"
     ]
    },
    {
     "data": {
      "image/png": "[encoded data removed]",
      "text/plain": [
       "<Figure size 360x576 with 1 Axes>"
      ]
     },
     "metadata": {},
     "output_type": "display_data"
    }
   ],
   "source": [
    "# Boxplot of the average ratings given by each occupation\n",
    "sns.set(rc={'figure.figsize':(5,8)})\n",
    "sns.boxplot(data = occup_rat, showmeans=True).set(title='Average Ratings per Occupation')\n",
    "# Standard deviation of the average ratings given by each occupation\n",
    "print('Standard deviation of the average ratings given by each occupation:', occup_rat['rating'].std())"
   ]
  },
  {
   "cell_type": "code",
   "execution_count": 71,
   "id": "461d3b90",
   "metadata": {},
   "outputs": [
    {
     "data": {
      "text/plain": [
       "[Text(0.5, 1.0, 'Ratings by Occupation')]"
      ]
     },
     "execution_count": 71,
     "metadata": {},
     "output_type": "execute_result"
    },
    {
     "data": {
      "image/png": "[encoded data removed]",
      "text/plain": [
       "<Figure size 1440x720 with 1 Axes>"
      ]
     },
     "metadata": {},
     "output_type": "display_data"
    }
   ],
   "source": [
    "# Boxplot of the ratings given by differewnt occupations\n",
    "sns.set(rc={'figure.figsize':(20,10)})\n",
    "sns.boxplot(data = df_clean, x = 'occupation', y = 'rating', showmeans=True).set(title='Ratings by Occupation')"
   ]
  },
  {
   "cell_type": "markdown",
   "id": "8653f9da",
   "metadata": {},
   "source": [
    "The average ratings made by different occupations vary slightly with a relatively small standard deviation of 0.184 between them. The boxplot 'Average Ratings per Occupation' highlights this small amount of variance as it shows an interquartile range inbetween 3.4 and 3.7. Meanwhile the plot 'Ratings by Occupation' shows that majority of occupations made ratings with the same interquartile range of 3 to 4 and the same maximum and minimum values of 5 and 2 respectively. The exceptions are executives and healthcare workers who had a lower interquartile range of 4 to 2, while artists and lawyers had a higher interquartile range of 5 to 3. This shows that there is little to no correaltion between occupation and rating."
   ]
  },
  {
   "cell_type": "code",
   "execution_count": 72,
   "id": "a13f170c",
   "metadata": {},
   "outputs": [
    {
     "data": {
      "text/html": [
       "<div>\n",
       "<style scoped>\n",
       "    .dataframe tbody tr th:only-of-type {\n",
       "        vertical-align: middle;\n",
       "    }\n",
       "\n",
       "    .dataframe tbody tr th {\n",
       "        vertical-align: top;\n",
       "    }\n",
       "\n",
       "    .dataframe thead th {\n",
       "        text-align: right;\n",
       "    }\n",
       "</style>\n",
       "<table border=\"1\" class=\"dataframe\">\n",
       "  <thead>\n",
       "    <tr style=\"text-align: right;\">\n",
       "      <th></th>\n",
       "      <th>rating</th>\n",
       "    </tr>\n",
       "    <tr>\n",
       "      <th>genre</th>\n",
       "      <th></th>\n",
       "    </tr>\n",
       "  </thead>\n",
       "  <tbody>\n",
       "    <tr>\n",
       "      <th>Action</th>\n",
       "      <td>3.455195</td>\n",
       "    </tr>\n",
       "    <tr>\n",
       "      <th>Adventure</th>\n",
       "      <td>3.420509</td>\n",
       "    </tr>\n",
       "    <tr>\n",
       "      <th>Animation</th>\n",
       "      <td>3.459278</td>\n",
       "    </tr>\n",
       "    <tr>\n",
       "      <th>Children</th>\n",
       "      <td>3.280056</td>\n",
       "    </tr>\n",
       "    <tr>\n",
       "      <th>Comedy</th>\n",
       "      <td>3.338764</td>\n",
       "    </tr>\n",
       "    <tr>\n",
       "      <th>Crime</th>\n",
       "      <td>3.706601</td>\n",
       "    </tr>\n",
       "    <tr>\n",
       "      <th>Documentary</th>\n",
       "      <td>3.671429</td>\n",
       "    </tr>\n",
       "    <tr>\n",
       "      <th>Drama</th>\n",
       "      <td>3.688156</td>\n",
       "    </tr>\n",
       "    <tr>\n",
       "      <th>Fantasy</th>\n",
       "      <td>3.515260</td>\n",
       "    </tr>\n",
       "    <tr>\n",
       "      <th>Film-Noir</th>\n",
       "      <td>3.814961</td>\n",
       "    </tr>\n",
       "    <tr>\n",
       "      <th>Horror</th>\n",
       "      <td>3.363503</td>\n",
       "    </tr>\n",
       "    <tr>\n",
       "      <th>Musical</th>\n",
       "      <td>3.576111</td>\n",
       "    </tr>\n",
       "    <tr>\n",
       "      <th>Mystery</th>\n",
       "      <td>3.677594</td>\n",
       "    </tr>\n",
       "    <tr>\n",
       "      <th>Romance</th>\n",
       "      <td>3.608484</td>\n",
       "    </tr>\n",
       "    <tr>\n",
       "      <th>Sci-Fi</th>\n",
       "      <td>3.621761</td>\n",
       "    </tr>\n",
       "    <tr>\n",
       "      <th>Thriller</th>\n",
       "      <td>3.363209</td>\n",
       "    </tr>\n",
       "    <tr>\n",
       "      <th>War</th>\n",
       "      <td>3.705596</td>\n",
       "    </tr>\n",
       "    <tr>\n",
       "      <th>Western</th>\n",
       "      <td>3.736234</td>\n",
       "    </tr>\n",
       "    <tr>\n",
       "      <th>unknown</th>\n",
       "      <td>3.000000</td>\n",
       "    </tr>\n",
       "  </tbody>\n",
       "</table>\n",
       "</div>"
      ],
      "text/plain": [
       "               rating\n",
       "genre                \n",
       "Action       3.455195\n",
       "Adventure    3.420509\n",
       "Animation    3.459278\n",
       "Children     3.280056\n",
       "Comedy       3.338764\n",
       "Crime        3.706601\n",
       "Documentary  3.671429\n",
       "Drama        3.688156\n",
       "Fantasy      3.515260\n",
       "Film-Noir    3.814961\n",
       "Horror       3.363503\n",
       "Musical      3.576111\n",
       "Mystery      3.677594\n",
       "Romance      3.608484\n",
       "Sci-Fi       3.621761\n",
       "Thriller     3.363209\n",
       "War          3.705596\n",
       "Western      3.736234\n",
       "unknown      3.000000"
      ]
     },
     "execution_count": 72,
     "metadata": {},
     "output_type": "execute_result"
    }
   ],
   "source": [
    "# Comparasin of means for ratings given by differewnt genres\n",
    "gen_rat = df_clean[['genre', 'rating']].groupby('genre').mean()\n",
    "gen_rat"
   ]
  },
  {
   "cell_type": "code",
   "execution_count": 73,
   "id": "811b5434",
   "metadata": {},
   "outputs": [
    {
     "name": "stdout",
     "output_type": "stream",
     "text": [
      "Standard deviation of the average ratings given by each genre: 0.20101278188662255\n"
     ]
    },
    {
     "data": {
      "image/png": "[encoded data removed]",
      "text/plain": [
       "<Figure size 360x576 with 1 Axes>"
      ]
     },
     "metadata": {},
     "output_type": "display_data"
    }
   ],
   "source": [
    "# Boxplot of the average ratings given by each genre\n",
    "sns.set(rc={'figure.figsize':(5,8)})\n",
    "sns.boxplot(data = gen_rat, showmeans=True).set(title='Average Ratings per Genre')\n",
    "# Standard deviation of the average ratings given by each occupation\n",
    "print('Standard deviation of the average ratings given by each genre:', gen_rat['rating'].std())"
   ]
  },
  {
   "cell_type": "code",
   "execution_count": 74,
   "id": "acafe386",
   "metadata": {
    "scrolled": false
   },
   "outputs": [
    {
     "data": {
      "text/plain": [
       "[Text(0.5, 1.0, 'Ratings by Genre')]"
      ]
     },
     "execution_count": 74,
     "metadata": {},
     "output_type": "execute_result"
    },
    {
     "data": {
      "image/png": "[encoded data removed]",
      "text/plain": [
       "<Figure size 1440x720 with 1 Axes>"
      ]
     },
     "metadata": {},
     "output_type": "display_data"
    }
   ],
   "source": [
    "# Boxplot of the ratings given by differewnt genres\n",
    "sns.set(rc={'figure.figsize':(20,10)})\n",
    "sns.boxplot(data = df_clean, x = 'genre', y = 'rating', showmeans=True).set(title='Ratings by Genre')"
   ]
  },
  {
   "cell_type": "markdown",
   "id": "d35d6c01",
   "metadata": {},
   "source": [
    "The average ratings of movies of different genres vary slightly with a relatively small standard deviation of 0.201 between them. The boxplot 'Average Ratings per Genre' highlights this small amount of variance as it shows an interquartile range approximately inbetween 3.39 and 3.69. Meanwhile the plot 'Ratings by Genre' shows that majority of genres had ratings with the same interquartile range of 3 to 4 and the same maximum and minimum values of 5 and 2 respectively. The exceptions are  War, Crime, Documentry and Film-Noir which all had a higher interquartile ranges of 5 to 3. This shows that there is little to no correaltion between genre and rating."
   ]
  },
  {
   "cell_type": "markdown",
   "id": "776d8581",
   "metadata": {},
   "source": [
    "Overall the data does not provide adequate information to make inferences about the rating of movies as there is insufficient correalation between rating and gender/occupation/genre."
   ]
  },
  {
   "cell_type": "markdown",
   "id": "1d8d121f",
   "metadata": {},
   "source": [
    "#### Q4. Detect and remove outliers\n",
    "\n",
    "We may define outlier users and movies with three rules:\n",
    "\n",
    "* users whose age is no more than 10\n",
    "* users who rate less than 20 movies\n",
    "* movies that receives less than 10 ratings (i.e., movies that are rated by less than 10 users)\n",
    " \n",
    "Please remove the corresponding records in the csv file that involves outlier users and movies. After that, __print the length of the data__."
   ]
  },
  {
   "cell_type": "code",
   "execution_count": 75,
   "id": "1d99ecc9",
   "metadata": {},
   "outputs": [
    {
     "data": {
      "text/html": [
       "<div>\n",
       "<style scoped>\n",
       "    .dataframe tbody tr th:only-of-type {\n",
       "        vertical-align: middle;\n",
       "    }\n",
       "\n",
       "    .dataframe tbody tr th {\n",
       "        vertical-align: top;\n",
       "    }\n",
       "\n",
       "    .dataframe thead th {\n",
       "        text-align: right;\n",
       "    }\n",
       "</style>\n",
       "<table border=\"1\" class=\"dataframe\">\n",
       "  <thead>\n",
       "    <tr style=\"text-align: right;\">\n",
       "      <th></th>\n",
       "      <th>userId</th>\n",
       "      <th>age</th>\n",
       "      <th>gender</th>\n",
       "      <th>occupation</th>\n",
       "      <th>movieId</th>\n",
       "      <th>rating</th>\n",
       "      <th>genre</th>\n",
       "      <th>timestamp</th>\n",
       "    </tr>\n",
       "  </thead>\n",
       "  <tbody>\n",
       "    <tr>\n",
       "      <th>0</th>\n",
       "      <td>196</td>\n",
       "      <td>49.0</td>\n",
       "      <td>M</td>\n",
       "      <td>writer</td>\n",
       "      <td>242</td>\n",
       "      <td>3.0</td>\n",
       "      <td>Comedy</td>\n",
       "      <td>881250949</td>\n",
       "    </tr>\n",
       "    <tr>\n",
       "      <th>2</th>\n",
       "      <td>22</td>\n",
       "      <td>25.0</td>\n",
       "      <td>M</td>\n",
       "      <td>writer</td>\n",
       "      <td>377</td>\n",
       "      <td>1.0</td>\n",
       "      <td>Children</td>\n",
       "      <td>878887116</td>\n",
       "    </tr>\n",
       "    <tr>\n",
       "      <th>3</th>\n",
       "      <td>244</td>\n",
       "      <td>28.0</td>\n",
       "      <td>M</td>\n",
       "      <td>technician</td>\n",
       "      <td>51</td>\n",
       "      <td>2.0</td>\n",
       "      <td>Romance</td>\n",
       "      <td>880606923</td>\n",
       "    </tr>\n",
       "    <tr>\n",
       "      <th>5</th>\n",
       "      <td>298</td>\n",
       "      <td>44.0</td>\n",
       "      <td>M</td>\n",
       "      <td>executive</td>\n",
       "      <td>474</td>\n",
       "      <td>4.0</td>\n",
       "      <td>War</td>\n",
       "      <td>884182806</td>\n",
       "    </tr>\n",
       "    <tr>\n",
       "      <th>7</th>\n",
       "      <td>253</td>\n",
       "      <td>26.0</td>\n",
       "      <td>F</td>\n",
       "      <td>librarian</td>\n",
       "      <td>465</td>\n",
       "      <td>5.0</td>\n",
       "      <td>Adventure</td>\n",
       "      <td>891628467</td>\n",
       "    </tr>\n",
       "    <tr>\n",
       "      <th>...</th>\n",
       "      <td>...</td>\n",
       "      <td>...</td>\n",
       "      <td>...</td>\n",
       "      <td>...</td>\n",
       "      <td>...</td>\n",
       "      <td>...</td>\n",
       "      <td>...</td>\n",
       "      <td>...</td>\n",
       "    </tr>\n",
       "    <tr>\n",
       "      <th>99995</th>\n",
       "      <td>880</td>\n",
       "      <td>13.0</td>\n",
       "      <td>M</td>\n",
       "      <td>student</td>\n",
       "      <td>476</td>\n",
       "      <td>3.0</td>\n",
       "      <td>Comedy</td>\n",
       "      <td>880175444</td>\n",
       "    </tr>\n",
       "    <tr>\n",
       "      <th>99996</th>\n",
       "      <td>716</td>\n",
       "      <td>36.0</td>\n",
       "      <td>F</td>\n",
       "      <td>administrator</td>\n",
       "      <td>204</td>\n",
       "      <td>5.0</td>\n",
       "      <td>Sci-Fi</td>\n",
       "      <td>879795543</td>\n",
       "    </tr>\n",
       "    <tr>\n",
       "      <th>99997</th>\n",
       "      <td>276</td>\n",
       "      <td>21.0</td>\n",
       "      <td>M</td>\n",
       "      <td>student</td>\n",
       "      <td>1090</td>\n",
       "      <td>1.0</td>\n",
       "      <td>Thriller</td>\n",
       "      <td>874795795</td>\n",
       "    </tr>\n",
       "    <tr>\n",
       "      <th>99998</th>\n",
       "      <td>13</td>\n",
       "      <td>47.0</td>\n",
       "      <td>M</td>\n",
       "      <td>educator</td>\n",
       "      <td>225</td>\n",
       "      <td>2.0</td>\n",
       "      <td>Comedy</td>\n",
       "      <td>882399156</td>\n",
       "    </tr>\n",
       "    <tr>\n",
       "      <th>99999</th>\n",
       "      <td>12</td>\n",
       "      <td>28.0</td>\n",
       "      <td>F</td>\n",
       "      <td>other</td>\n",
       "      <td>203</td>\n",
       "      <td>3.0</td>\n",
       "      <td>Western</td>\n",
       "      <td>879959583</td>\n",
       "    </tr>\n",
       "  </tbody>\n",
       "</table>\n",
       "<p>99022 rows × 8 columns</p>\n",
       "</div>"
      ],
      "text/plain": [
       "       userId   age gender     occupation  movieId  rating      genre  \\\n",
       "0         196  49.0      M         writer      242     3.0     Comedy   \n",
       "2          22  25.0      M         writer      377     1.0   Children   \n",
       "3         244  28.0      M     technician       51     2.0    Romance   \n",
       "5         298  44.0      M      executive      474     4.0        War   \n",
       "7         253  26.0      F      librarian      465     5.0  Adventure   \n",
       "...       ...   ...    ...            ...      ...     ...        ...   \n",
       "99995     880  13.0      M        student      476     3.0     Comedy   \n",
       "99996     716  36.0      F  administrator      204     5.0     Sci-Fi   \n",
       "99997     276  21.0      M        student     1090     1.0   Thriller   \n",
       "99998      13  47.0      M       educator      225     2.0     Comedy   \n",
       "99999      12  28.0      F          other      203     3.0    Western   \n",
       "\n",
       "       timestamp  \n",
       "0      881250949  \n",
       "2      878887116  \n",
       "3      880606923  \n",
       "5      884182806  \n",
       "7      891628467  \n",
       "...          ...  \n",
       "99995  880175444  \n",
       "99996  879795543  \n",
       "99997  874795795  \n",
       "99998  882399156  \n",
       "99999  879959583  \n",
       "\n",
       "[99022 rows x 8 columns]"
      ]
     },
     "execution_count": 75,
     "metadata": {},
     "output_type": "execute_result"
    }
   ],
   "source": [
    "df_clean"
   ]
  },
  {
   "cell_type": "code",
   "execution_count": 76,
   "id": "df093034",
   "metadata": {},
   "outputs": [
    {
     "data": {
      "text/plain": [
       "(98948, 8)"
      ]
     },
     "execution_count": 76,
     "metadata": {},
     "output_type": "execute_result"
    }
   ],
   "source": [
    "# Remove ratings given by users 10 and younger\n",
    "df_clean = df_clean[df_clean['age'] > 10]\n",
    "df_clean.shape"
   ]
  },
  {
   "cell_type": "code",
   "execution_count": 77,
   "id": "72ae546b",
   "metadata": {},
   "outputs": [
    {
     "data": {
      "text/html": [
       "<div>\n",
       "<style scoped>\n",
       "    .dataframe tbody tr th:only-of-type {\n",
       "        vertical-align: middle;\n",
       "    }\n",
       "\n",
       "    .dataframe tbody tr th {\n",
       "        vertical-align: top;\n",
       "    }\n",
       "\n",
       "    .dataframe thead th {\n",
       "        text-align: right;\n",
       "    }\n",
       "</style>\n",
       "<table border=\"1\" class=\"dataframe\">\n",
       "  <thead>\n",
       "    <tr style=\"text-align: right;\">\n",
       "      <th></th>\n",
       "      <th>userId</th>\n",
       "      <th>age</th>\n",
       "      <th>gender</th>\n",
       "      <th>occupation</th>\n",
       "      <th>movieId</th>\n",
       "      <th>rating</th>\n",
       "      <th>genre</th>\n",
       "      <th>timestamp</th>\n",
       "    </tr>\n",
       "  </thead>\n",
       "  <tbody>\n",
       "  </tbody>\n",
       "</table>\n",
       "</div>"
      ],
      "text/plain": [
       "Empty DataFrame\n",
       "Columns: [userId, age, gender, occupation, movieId, rating, genre, timestamp]\n",
       "Index: []"
      ]
     },
     "execution_count": 77,
     "metadata": {},
     "output_type": "execute_result"
    }
   ],
   "source": [
    "df_clean[df_clean['age'] <= 10] # Check for any ages less than or equal to 10"
   ]
  },
  {
   "cell_type": "code",
   "execution_count": 78,
   "id": "ed02491b",
   "metadata": {},
   "outputs": [
    {
     "data": {
      "text/plain": [
       "0        1\n",
       "1        2\n",
       "2        3\n",
       "3        4\n",
       "4        5\n",
       "      ... \n",
       "927    939\n",
       "928    940\n",
       "929    941\n",
       "930    942\n",
       "931    943\n",
       "Name: Unique_userId, Length: 931, dtype: int64"
      ]
     },
     "execution_count": 78,
     "metadata": {},
     "output_type": "execute_result"
    }
   ],
   "source": [
    "# Identify which users have rated 20 or more movies\n",
    "RatingsPerUser2 = np.unique(df_clean['userId'], return_counts = True) # Use np.unique to identify the unique values with counts\n",
    "RatingsPerUser2 = pd.DataFrame(RatingsPerUser2) # Put the arrays into a data frame\n",
    "RatingsPerUser2 = RatingsPerUser2.T # data frame with one column for the unique userIds and one for their counts\n",
    "RatingsPerUser2.rename(columns={0: 'Unique_userId', 1: '#ratings'}, inplace = True) # Rename the columns\n",
    "User20plusRatings = RatingsPerUser2[RatingsPerUser2['#ratings'] >= 20] # Identify the users who have rated 20 or more movies\n",
    "User20plusRatings['Unique_userId']"
   ]
  },
  {
   "cell_type": "code",
   "execution_count": 79,
   "id": "8414ff6d",
   "metadata": {},
   "outputs": [
    {
     "data": {
      "text/plain": [
       "(98929, 8)"
      ]
     },
     "execution_count": 79,
     "metadata": {},
     "output_type": "execute_result"
    }
   ],
   "source": [
    "# Only include users who have rated 20 or more movies using the isin function\n",
    "df_clean = df_clean[df_clean['userId'].isin(User20plusRatings['Unique_userId'])]\n",
    "df_clean.shape"
   ]
  },
  {
   "cell_type": "code",
   "execution_count": 80,
   "id": "362c3d79",
   "metadata": {},
   "outputs": [
    {
     "data": {
      "text/plain": [
       "0          1\n",
       "1          2\n",
       "2          3\n",
       "3          4\n",
       "4          5\n",
       "        ... \n",
       "1482    1483\n",
       "1502    1503\n",
       "1517    1518\n",
       "1539    1540\n",
       "1614    1615\n",
       "Name: Unique_movieId, Length: 1147, dtype: int64"
      ]
     },
     "execution_count": 80,
     "metadata": {},
     "output_type": "execute_result"
    }
   ],
   "source": [
    "# Identify which movies that have been rated 10 or more times\n",
    "RatingsPerMovie2 = np.unique(df_clean['movieId'], return_counts = True) # Use np.unique to identify the unique values with counts\n",
    "RatingsPerMovie2 = pd.DataFrame(RatingsPerMovie2) # Put the arrays into a data frame\n",
    "RatingsPerMovie2 = RatingsPerMovie2.T # data frame with one column for the unique userIds and one for their counts\n",
    "RatingsPerMovie2.rename(columns={0: 'Unique_movieId', 1: '#ratings'}, inplace = True) # Rename the columns\n",
    "Movie10plusRatings = RatingsPerMovie2[RatingsPerMovie2['#ratings'] >= 10] # Identify the movies which have been rated 10 or more times\n",
    "Movie10plusRatings['Unique_movieId']"
   ]
  },
  {
   "cell_type": "code",
   "execution_count": 81,
   "id": "30d4164c",
   "metadata": {},
   "outputs": [
    {
     "data": {
      "text/plain": [
       "(96854, 8)"
      ]
     },
     "execution_count": 81,
     "metadata": {},
     "output_type": "execute_result"
    }
   ],
   "source": [
    "# Only include movies who have been rated 10 or more times using the isin function\n",
    "df_clean = df_clean[df_clean['movieId'].isin(Movie10plusRatings['Unique_movieId'])]\n",
    "df_clean.shape"
   ]
  },
  {
   "cell_type": "code",
   "execution_count": 82,
   "id": "9ec68d87",
   "metadata": {},
   "outputs": [
    {
     "data": {
      "text/plain": [
       "96854"
      ]
     },
     "execution_count": 82,
     "metadata": {},
     "output_type": "execute_result"
    }
   ],
   "source": [
    "len(df_clean)"
   ]
  },
  {
   "cell_type": "code",
   "execution_count": 83,
   "id": "6220e020",
   "metadata": {},
   "outputs": [],
   "source": [
    "df_clean.to_csv('files/movielens_data_clean.csv', index=False)"
   ]
  }
 ],
 "metadata": {
  "kernelspec": {
   "display_name": "Python 3 (ipykernel)",
   "language": "python",
   "name": "python3"
  },
  "language_info": {
   "codemirror_mode": {
    "name": "ipython",
    "version": 3
   },
   "file_extension": ".py",
   "mimetype": "text/x-python",
   "name": "python",
   "nbconvert_exporter": "python",
   "pygments_lexer": "ipython3",
   "version": "3.9.7"
  }
 },
 "nbformat": 4,
 "nbformat_minor": 5
}
